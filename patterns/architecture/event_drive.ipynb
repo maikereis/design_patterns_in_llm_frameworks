{
 "cells": [
  {
   "cell_type": "code",
   "execution_count": 1,
   "metadata": {},
   "outputs": [],
   "source": [
    "%load_ext autoreload\n",
    "%autoreload 2"
   ]
  },
  {
   "cell_type": "markdown",
   "metadata": {},
   "source": [
    "# Event-Drive Architecture\n",
    "\n",
    "The Event-Drive Architecture uses events as triggers for components to communicate. This pattern is essential for decoupling systems, allowing them to act asynchronously based on changes.\n",
    "\n",
    "## Use Case:\n",
    "\n",
    "In an LLM framework, an agent might trigger events like `task_completed` or `data_received`, which other components can act upon without tight coupling.\n",
    "\n",
    "\n",
    "#### Python Example:"
   ]
  },
  {
   "cell_type": "code",
   "execution_count": 7,
   "metadata": {},
   "outputs": [],
   "source": [
    "\n",
    "class EventBroker:\n",
    "    def __init__(self):\n",
    "        self.listeners = {}\n",
    "\n",
    "    def subscribe(self, event_type, listener):\n",
    "        if event_type not in self.listeners:\n",
    "            self.listeners[event_type] = []\n",
    "        self.listeners[event_type].append(listener)\n",
    "\n",
    "    def publish(self, event_type, data):\n",
    "        if event_type in self.listeners:\n",
    "            for listener in self.listeners[event_type]:\n",
    "                listener(data)\n",
    "\n",
    "def on_task_completed(data):\n",
    "    print(f\"Task completed! Data: {data}\")\n",
    "\n",
    "def on_new_data_received(data):\n",
    "    print(f\"New data received: {data}\")\n",
    "\n",
    "event_broker = EventBroker()\n",
    "\n",
    "event_broker.subscribe(\"task_completed\", on_task_completed)\n",
    "event_broker.subscribe(\"data_received\", on_new_data_received)"
   ]
  },
  {
   "cell_type": "markdown",
   "metadata": {},
   "source": [
    "#### Output"
   ]
  },
  {
   "cell_type": "code",
   "execution_count": 8,
   "metadata": {},
   "outputs": [
    {
     "name": "stdout",
     "output_type": "stream",
     "text": [
      "Task completed! Data: {'task_id': 1, 'status': 'success'}\n",
      "New data received: {'data': 'User input to process'}\n"
     ]
    }
   ],
   "source": [
    "event_broker.publish(\"task_completed\", {'task_id': 1, \"status\": \"success\"})\n",
    "event_broker.publish(\"data_received\", {\"data\": \"User input to process\"})"
   ]
  }
 ],
 "metadata": {
  "kernelspec": {
   "display_name": "patterns",
   "language": "python",
   "name": "python3"
  },
  "language_info": {
   "codemirror_mode": {
    "name": "ipython",
    "version": 3
   },
   "file_extension": ".py",
   "mimetype": "text/x-python",
   "name": "python",
   "nbconvert_exporter": "python",
   "pygments_lexer": "ipython3",
   "version": "3.12.3"
  }
 },
 "nbformat": 4,
 "nbformat_minor": 2
}
