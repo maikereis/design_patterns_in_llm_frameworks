{
 "cells": [
  {
   "cell_type": "code",
   "execution_count": 1,
   "metadata": {},
   "outputs": [],
   "source": [
    "%load_ext autoreload\n",
    "%autoreload 2"
   ]
  },
  {
   "cell_type": "markdown",
   "metadata": {},
   "source": [
    "# Repository Pattern\n",
    "\n",
    "The Repository Pattern abstracts the data access logic, providing a way to accesss domain objects without worrying about the underlying data storage mechanisms. The pattern is commonly used in systems where data storage, retrieval, and querying are frequent and complex.\n",
    "\n",
    "## Use Case 1:\n",
    "\n",
    "In an LLM system, you may want to manage and retrieve past prompts, responses, or user interactions from a database or file system. The repository abstracts the data handling and makes it easier to interact with the stored data.\n",
    "\n",
    "#### Python Example:"
   ]
  },
  {
   "cell_type": "code",
   "execution_count": 13,
   "metadata": {},
   "outputs": [],
   "source": [
    "class Prompt:\n",
    "    def __init__(self, text, response):\n",
    "        self.text = text\n",
    "        self.response = response\n",
    "    \n",
    "class IRepository:\n",
    "    def add(self, prompt):\n",
    "        raise NotImplementedError\n",
    "\n",
    "    def get(self, prompt_id):\n",
    "        raise NotImplementedError\n",
    "    \n",
    "class InMemoryRepository(IRepository):\n",
    "    def __init__(self):\n",
    "        self.prompts = {}\n",
    "        self.counter = 0\n",
    "\n",
    "    def add(self, prompt):\n",
    "        self.counter +=1\n",
    "        self.prompts[self.counter] = prompt\n",
    "        return self.counter\n",
    "    \n",
    "    def get(self, prompt_id):\n",
    "        return self.prompts.get(prompt_id)\n",
    "    \n",
    "repository = InMemoryRepository()\n",
    "\n",
    "prompt1 = Prompt(\"Tell me a joke.\", \"Why don't skeletons fight each other? They don't have the guts.\")\n",
    "prompt2 = Prompt(\"What is the capital of France?\", \"The capital of France is Paris.\")\n",
    "\n",
    "id1 = repository.add(prompt1)\n",
    "id2 = repository.add(prompt2)\n",
    "\n",
    "retrieved_prompt1 = repository.get(id1)\n",
    "retrieved_prompt2 = repository.get(id2)"
   ]
  },
  {
   "cell_type": "markdown",
   "metadata": {},
   "source": [
    "#### Output"
   ]
  },
  {
   "cell_type": "code",
   "execution_count": 14,
   "metadata": {},
   "outputs": [
    {
     "name": "stdout",
     "output_type": "stream",
     "text": [
      "Prompt 1: Tell me a joke. -> Response: Why don't skeletons fight each other? They don't have the guts.\n",
      "Prompt 2: What is the capital of France? -> Response: The capital of France is Paris.\n"
     ]
    }
   ],
   "source": [
    "print(f\"Prompt 1: {retrieved_prompt1.text} -> Response: {retrieved_prompt1.response}\")\n",
    "print(f\"Prompt 2: {retrieved_prompt2.text} -> Response: {retrieved_prompt2.response}\")"
   ]
  },
  {
   "cell_type": "markdown",
   "metadata": {},
   "source": [
    "## Use Case 2:\n",
    "\n",
    "The repository pattern can be used to store and manage a history of LLM requests and responses.\n",
    "\n",
    "#### Python Example:"
   ]
  },
  {
   "cell_type": "code",
   "execution_count": 15,
   "metadata": {},
   "outputs": [],
   "source": [
    "class RequestHistoryRepository(IRepository):\n",
    "    def __init__(self):\n",
    "        self.history = []\n",
    "\n",
    "    def add(self, prompt):\n",
    "        self.history.append(prompt)\n",
    "        return len(self.history)\n",
    "    \n",
    "    def get(self, request_id):\n",
    "        return self.history[request_id - 1]\n",
    "    \n",
    "\n",
    "history_repository = RequestHistoryRepository()\n",
    "history_repository.add(Prompt(\"What's Python?\", \"Python is a programming laguage.\"))\n",
    "history_repository.add(Prompt(\"What's the capital of Italy?\", \"The capital of Italy is Rome.\"))\n",
    "\n",
    "request1 = history_repository.get(1)\n",
    "request2 = history_repository.get(2)"
   ]
  },
  {
   "cell_type": "markdown",
   "metadata": {},
   "source": [
    "#### Output"
   ]
  },
  {
   "cell_type": "code",
   "execution_count": 16,
   "metadata": {},
   "outputs": [
    {
     "name": "stdout",
     "output_type": "stream",
     "text": [
      "History 1: What's Python? -> Python is a programming laguage.\n",
      "History 2: What's the capital of Italy? -> The capital of Italy is Rome.\n"
     ]
    }
   ],
   "source": [
    "print(f\"History 1: {request1.text} -> {request1.response}\")\n",
    "print(f\"History 2: {request2.text} -> {request2.response}\")"
   ]
  },
  {
   "cell_type": "markdown",
   "metadata": {},
   "source": [
    "#### References:\n",
    "\n",
    "1. https://www.geeksforgeeks.org/repository-design-pattern/"
   ]
  }
 ],
 "metadata": {
  "kernelspec": {
   "display_name": "patterns",
   "language": "python",
   "name": "python3"
  },
  "language_info": {
   "codemirror_mode": {
    "name": "ipython",
    "version": 3
   },
   "file_extension": ".py",
   "mimetype": "text/x-python",
   "name": "python",
   "nbconvert_exporter": "python",
   "pygments_lexer": "ipython3",
   "version": "3.12.3"
  }
 },
 "nbformat": 4,
 "nbformat_minor": 2
}
