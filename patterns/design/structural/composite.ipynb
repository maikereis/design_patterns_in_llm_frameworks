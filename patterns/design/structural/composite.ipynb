{
 "cells": [
  {
   "cell_type": "code",
   "execution_count": 8,
   "metadata": {},
   "outputs": [
    {
     "name": "stdout",
     "output_type": "stream",
     "text": [
      "The autoreload extension is already loaded. To reload it, use:\n",
      "  %reload_ext autoreload\n"
     ]
    }
   ],
   "source": [
    "%load_ext autoreload\n",
    "%autoreload 2"
   ]
  },
  {
   "cell_type": "markdown",
   "metadata": {},
   "source": [
    "# Composite Pattern\n",
    "\n",
    "The Composite Pattern allows you to compose objects into tree-like structures to represent part-whole hierarchies. It lets you treat individual objects and compositions of objects uniformly, making it easier to manage complex hierarchies.\n",
    "\n",
    "## Use Case 1:\n",
    "\n",
    "In an LLM system, you might want to treat a single prompt and a collection of prompts(e.g., batch processing) in a similar way. The Composite Pattern can allow you to group multiple prompts together and treat them as a single unit, enabling uniform processing.\n",
    "\n",
    "The Composite Pattern would be ideal for scenarios where you need to handle both individual LLM requests and collections of requests in a consistent manner. For example, when you want to batch multiple requests to be processed together, but still maintain the ability to process single requests.\n",
    "\n",
    "#### Python Example:"
   ]
  },
  {
   "cell_type": "code",
   "execution_count": 9,
   "metadata": {},
   "outputs": [],
   "source": [
    "from abc import ABC, abstractmethod\n",
    "\n",
    "class LLMComponent(ABC):\n",
    "    @abstractmethod\n",
    "    def generate_response(self, prompt):\n",
    "        pass\n",
    "\n",
    "class LLMRequest(LLMComponent):\n",
    "    def __init__(self, prompt):\n",
    "        self.prompt = prompt\n",
    "    \n",
    "    def generate_response(self, prompt):\n",
    "        return f\"LLMRequest: {prompt}\"\n",
    "    \n",
    "class LLMRequestGroup(LLMComponent):\n",
    "    def __init__(self):\n",
    "        self.requests = []\n",
    "\n",
    "    def add(self, component):\n",
    "        self.requests.append(component)\n",
    "\n",
    "    def generate_response(self, prompt):\n",
    "        response = [request.generate_response(prompt) for request in self.requests]\n",
    "        return \" | \".join(response)\n",
    "    \n",
    "request1 = LLMRequest(\"What is AI?\")\n",
    "request2 = LLMRequest(\"What is machine learning?\")\n",
    "\n",
    "group = LLMRequestGroup()\n",
    "\n",
    "group.add(request1)\n",
    "group.add(request2)"
   ]
  },
  {
   "cell_type": "markdown",
   "metadata": {},
   "source": [
    "#### Output"
   ]
  },
  {
   "cell_type": "code",
   "execution_count": 10,
   "metadata": {},
   "outputs": [
    {
     "name": "stdout",
     "output_type": "stream",
     "text": [
      "LLMRequest: What is AI?\n",
      "LLMRequest: What is machine learning?\n",
      "LLMRequest: Generate responses | LLMRequest: Generate responses\n"
     ]
    }
   ],
   "source": [
    "print(request1.generate_response(\"What is AI?\"))\n",
    "print(request2.generate_response(\"What is machine learning?\"))\n",
    "print(group.generate_response(\"Generate responses\"))"
   ]
  },
  {
   "cell_type": "markdown",
   "metadata": {},
   "source": [
    "## Use Case 2:\n",
    "\n",
    "The Composite Pattern is especially useful when dealing with batch processing of prompts, where both individual prompts and groups of prompts need to be processed uniformly.\n",
    "\n",
    "#### Python Example:"
   ]
  },
  {
   "cell_type": "code",
   "execution_count": 11,
   "metadata": {},
   "outputs": [],
   "source": [
    "group1 = LLMRequestGroup()\n",
    "group1.add(LLMRequest(\"What is deep learning?\"))\n",
    "group1.add(LLMRequest(\"Explain neural networks.\"))\n",
    "\n",
    "group2 = LLMRequestGroup()\n",
    "group2.add(LLMRequest(\"What is reinforcement learning?\"))\n",
    "group2.add(LLMRequest(\"Explain supervised learning.\"))\n",
    "\n",
    "parent_group = LLMRequestGroup()\n",
    "parent_group.add(group1)\n",
    "parent_group.add(group2)"
   ]
  },
  {
   "cell_type": "markdown",
   "metadata": {},
   "source": [
    "#### Output"
   ]
  },
  {
   "cell_type": "code",
   "execution_count": 12,
   "metadata": {},
   "outputs": [
    {
     "name": "stdout",
     "output_type": "stream",
     "text": [
      "LLMRequest: Batch process prompts. | LLMRequest: Batch process prompts. | LLMRequest: Batch process prompts. | LLMRequest: Batch process prompts.\n"
     ]
    }
   ],
   "source": [
    "print(parent_group.generate_response(\"Batch process prompts.\"))"
   ]
  },
  {
   "cell_type": "markdown",
   "metadata": {},
   "source": [
    "#### References:\n",
    "\n",
    "1. https://refactoring.guru/design-patterns/composite\n",
    "\n",
    "2. https://refactoring.guru/design-patterns/composite/python/example#example-0"
   ]
  }
 ],
 "metadata": {
  "kernelspec": {
   "display_name": "patterns",
   "language": "python",
   "name": "python3"
  },
  "language_info": {
   "codemirror_mode": {
    "name": "ipython",
    "version": 3
   },
   "file_extension": ".py",
   "mimetype": "text/x-python",
   "name": "python",
   "nbconvert_exporter": "python",
   "pygments_lexer": "ipython3",
   "version": "3.12.3"
  }
 },
 "nbformat": 4,
 "nbformat_minor": 2
}
