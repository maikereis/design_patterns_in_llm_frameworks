{
 "cells": [
  {
   "cell_type": "code",
   "execution_count": 1,
   "metadata": {},
   "outputs": [],
   "source": [
    "%load_ext autoreload\n",
    "%autoreload 2"
   ]
  },
  {
   "cell_type": "markdown",
   "metadata": {},
   "source": [
    "# Flyweight Pattern\n",
    "\n",
    "The Flyweight Pattern is a structural design pattern that aims to minimize memory usage by sharing as much data as possible. It allows for the reuse of common objects instead of creating new ones, which is particularly useful when dealing with large numbers of similar objects\n",
    "\n",
    "## Use Case 1:\n",
    "\n",
    "In an LLM system, you might be working with a large number of similar requests (e.g., identical prompts). Rather than creating a new object for every prompt, the Flyweight Pattern can be used to share the common parts (such as prompt templates or configuration) while keeping the specific data (like user inputs) separate.\n",
    "\n",
    "\n",
    "#### Python Example:"
   ]
  },
  {
   "cell_type": "code",
   "execution_count": 2,
   "metadata": {},
   "outputs": [],
   "source": [
    "class LLMRequest:\n",
    "    # Shared state (common data)\n",
    "    shared_state = \"Common LLM Processing Logic\"\n",
    "    \n",
    "    def __init__(self, unique_state):\n",
    "        self.unique_state = unique_state  # Unique part for each request\n",
    "    \n",
    "    def generate_response(self):\n",
    "        return f\"{self.shared_state} for {self.unique_state}\"\n",
    "\n",
    "class LLMRequestFactory:\n",
    "    def __init__(self):\n",
    "        self.requests = {}\n",
    "\n",
    "    def get_request(self, unique_state):\n",
    "        if unique_state not in self.requests:\n",
    "            self.requests[unique_state] = LLMRequest(unique_state)\n",
    "        return self.requests[unique_state]\n",
    "    \n",
    "\n",
    "factory = LLMRequestFactory()\n",
    "\n",
    "request1 = factory.get_request(\"What is artificial intelligence?\")\n",
    "request2 = factory.get_request(\"What is machine learning?\")\n",
    "request3 = factory.get_request(\"What is artificial intelligence?\")"
   ]
  },
  {
   "cell_type": "markdown",
   "metadata": {},
   "source": [
    "#### Output"
   ]
  },
  {
   "cell_type": "code",
   "execution_count": 3,
   "metadata": {},
   "outputs": [
    {
     "name": "stdout",
     "output_type": "stream",
     "text": [
      "Request 1 and Request 3 are the sample object: True\n",
      "Common LLM Processing Logic for What is artificial intelligence?\n",
      "Common LLM Processing Logic for What is machine learning?\n",
      "Common LLM Processing Logic for What is artificial intelligence?\n"
     ]
    }
   ],
   "source": [
    "print(f\"Request 1 and Request 3 are the sample object: {request1 is request3}\")\n",
    "print(request1.generate_response())\n",
    "print(request2.generate_response())\n",
    "print(request3.generate_response())"
   ]
  },
  {
   "cell_type": "markdown",
   "metadata": {},
   "source": [
    "## Use Case 2:\n",
    "\n",
    "The Flyweight Pattern is particularly beneficial when dealing with large-scale systems where the cost of creating many objects would be prohibitive. For instance, if you're hadling thousands of similar prompt requests, you can user the Flyweight to reduce the number of objects created.\n",
    "\n",
    "#### Python Example:"
   ]
  },
  {
   "cell_type": "code",
   "execution_count": 7,
   "metadata": {},
   "outputs": [],
   "source": [
    "unique_requests = [\n",
    "    \"What is deep learning?\", \"What is deep learning?\", \"What is machine learning?\",\n",
    "    \"What is deep learning?\", \"What is AI?\", \"What is AI?\"\n",
    "]\n",
    "\n",
    "shared_requests = [factory.get_request(req) for req in unique_requests]"
   ]
  },
  {
   "cell_type": "markdown",
   "metadata": {},
   "source": [
    "#### Output"
   ]
  },
  {
   "cell_type": "code",
   "execution_count": 8,
   "metadata": {},
   "outputs": [
    {
     "name": "stdout",
     "output_type": "stream",
     "text": [
      "Request 0 and Request 1 are the same object: True\n",
      "Request 1 and Request 2 are the same object: False\n",
      "Request 2 and Request 3 are the same object: False\n",
      "Request 3 and Request 4 are the same object: False\n",
      "Request 4 and Request 5 are the same object: True\n"
     ]
    }
   ],
   "source": [
    "for i in range(len(shared_requests) - 1):\n",
    "    print(f\"Request {i} and Request {i+1} are the same object: {shared_requests[i] is shared_requests[i+1]}\")"
   ]
  },
  {
   "cell_type": "markdown",
   "metadata": {},
   "source": [
    "#### References:\n",
    "\n",
    "1. https://refactoring.guru/design-patterns/flyweight\n",
    "\n",
    "2. https://refactoring.guru/design-patterns/flyweight/python/example#example-0"
   ]
  }
 ],
 "metadata": {
  "kernelspec": {
   "display_name": "patterns",
   "language": "python",
   "name": "python3"
  },
  "language_info": {
   "codemirror_mode": {
    "name": "ipython",
    "version": 3
   },
   "file_extension": ".py",
   "mimetype": "text/x-python",
   "name": "python",
   "nbconvert_exporter": "python",
   "pygments_lexer": "ipython3",
   "version": "3.12.3"
  }
 },
 "nbformat": 4,
 "nbformat_minor": 2
}
