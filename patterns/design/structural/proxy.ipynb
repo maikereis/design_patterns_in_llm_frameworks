{
 "cells": [
  {
   "cell_type": "code",
   "execution_count": null,
   "metadata": {},
   "outputs": [],
   "source": [
    "%load_ext autoreload\n",
    "%autoreload 2"
   ]
  },
  {
   "cell_type": "markdown",
   "metadata": {},
   "source": [
    "# Proxy Pattern\n",
    "\n",
    "The Proxy Pattern is a structural design pattern that provides an object representing another object. It acts as a surrogate or placeholder for another object, controlling access to it. Proxies can be used for various purposes, such as lazy inicialization, access control, logging, and monitoring.\n",
    "\n",
    "## Use Case:\n",
    "\n",
    "In an LLM system, you might want to control access to an expensive or time-consuming operation, such as querying a large model. The Proxy Pattern can be used to introduce a proxy that acts as an intermediary to manage the interaction with the actual model.\n",
    "\n",
    "#### Python Example:"
   ]
  },
  {
   "cell_type": "code",
   "execution_count": null,
   "metadata": {},
   "outputs": [],
   "source": [
    "import time\n",
    "\n",
    "class RealLLMModel:\n",
    "    def generate_response(self, prompt):\n",
    "        print(\"Generating response...\")\n",
    "        time.sleep(2)\n",
    "        return f\"Response to: {prompt}\"\n",
    "    \n",
    "class LLMModelProxy:\n",
    "    def __init__(self, real_model):\n",
    "        self.real_model = real_model\n",
    "        self.cache = {}\n",
    "\n",
    "    def generate_response(self, prompt):\n",
    "        if prompt in self.cache:\n",
    "            print(\"Returning cached response\")\n",
    "            return self.cache[prompt]\n",
    "        \n",
    "        response = self.real_model.generate_response(prompt)\n",
    "        self.cache[prompt] = response\n",
    "        return response\n",
    "    \n",
    "real_model = RealLLMModel()\n",
    "proxy = LLMModelProxy(real_model)"
   ]
  },
  {
   "cell_type": "markdown",
   "metadata": {},
   "source": [
    "#### Output"
   ]
  },
  {
   "cell_type": "code",
   "execution_count": 2,
   "metadata": {},
   "outputs": [
    {
     "name": "stdout",
     "output_type": "stream",
     "text": [
      "Generating response...\n",
      "Response to: What is AI?\n",
      "Returning cached response\n",
      "Response to: What is AI?\n"
     ]
    }
   ],
   "source": [
    "print(proxy.generate_response(\"What is AI?\"))\n",
    "print(proxy.generate_response(\"What is AI?\"))"
   ]
  },
  {
   "cell_type": "markdown",
   "metadata": {},
   "source": [
    "#### References:\n",
    "\n",
    "1. https://refactoring.guru/design-patterns/proxy\n",
    "\n",
    "2. https://refactoring.guru/design-patterns/proxy/python/example#example-0"
   ]
  }
 ],
 "metadata": {
  "kernelspec": {
   "display_name": "patterns",
   "language": "python",
   "name": "python3"
  },
  "language_info": {
   "codemirror_mode": {
    "name": "ipython",
    "version": 3
   },
   "file_extension": ".py",
   "mimetype": "text/x-python",
   "name": "python",
   "nbconvert_exporter": "python",
   "pygments_lexer": "ipython3",
   "version": "3.12.3"
  }
 },
 "nbformat": 4,
 "nbformat_minor": 2
}
