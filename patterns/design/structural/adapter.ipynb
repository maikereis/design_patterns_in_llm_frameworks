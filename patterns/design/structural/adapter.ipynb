{
 "cells": [
  {
   "cell_type": "code",
   "execution_count": 1,
   "metadata": {},
   "outputs": [],
   "source": [
    "%load_ext autoreload\n",
    "%autoreload 2"
   ]
  },
  {
   "cell_type": "markdown",
   "metadata": {},
   "source": [
    "# Adapter Pattern\n",
    "\n",
    "The Adapter Pattern bridges differences between incompatible interfaces.\n",
    "\n",
    "\n",
    "## Use Case:\n",
    "\n",
    "Switch between different LLM APIs whitout rewriting the main logic.\n",
    "\n",
    "\n",
    "#### Python Example:"
   ]
  },
  {
   "cell_type": "code",
   "execution_count": 5,
   "metadata": {},
   "outputs": [],
   "source": [
    "class OpenAILLM:\n",
    "    def get_response(self, prompt):\n",
    "        return f\"OpenAI says: {prompt}\"\n",
    "    \n",
    "class AnthropicLLM:\n",
    "    def fetch_reply(self, prompt):\n",
    "        return f\"Anthropic replise: {prompt}\"\n",
    "    \n",
    "class LLMAdapter:\n",
    "    def __init__(self, llm):\n",
    "        self.llm = llm\n",
    "    \n",
    "    def get_response(self, prompt):\n",
    "        if hasattr(self.llm, 'get_response'):\n",
    "            return self.llm.get_response(prompt)\n",
    "        elif hasattr(self.llm, 'fetch_reply'):\n",
    "            return self.llm.fetch_reply(prompt)\n",
    "        else:\n",
    "            raise NotImplementedError('Unsupported LLM API')\n",
    "        \n",
    "openai_adapter = LLMAdapter(OpenAILLM())\n",
    "anthropic_adapter = LLMAdapter(AnthropicLLM())\n",
    "\n",
    "openai_response = openai_adapter.get_response(\"What's the weather?\")\n",
    "anthropic_response = anthropic_adapter.get_response(\"What's the weather?\")"
   ]
  },
  {
   "cell_type": "markdown",
   "metadata": {},
   "source": [
    "#### Output"
   ]
  },
  {
   "cell_type": "code",
   "execution_count": 6,
   "metadata": {},
   "outputs": [
    {
     "name": "stdout",
     "output_type": "stream",
     "text": [
      "OpenAI says: What's the weather?\n",
      "Anthropic replise: What's the weather?\n"
     ]
    }
   ],
   "source": [
    "print(openai_adapter.get_response(\"What's the weather?\"))\n",
    "print(anthropic_adapter.get_response(\"What's the weather?\"))"
   ]
  },
  {
   "cell_type": "markdown",
   "metadata": {},
   "source": [
    "#### References:\n",
    "\n",
    "1. https://refactoring.guru/design-patterns/adapter\n",
    "\n",
    "2. https://refactoring.guru/design-patterns/adapter/python/example#example-0"
   ]
  }
 ],
 "metadata": {
  "kernelspec": {
   "display_name": "patterns",
   "language": "python",
   "name": "python3"
  },
  "language_info": {
   "codemirror_mode": {
    "name": "ipython",
    "version": 3
   },
   "file_extension": ".py",
   "mimetype": "text/x-python",
   "name": "python",
   "nbconvert_exporter": "python",
   "pygments_lexer": "ipython3",
   "version": "3.12.3"
  }
 },
 "nbformat": 4,
 "nbformat_minor": 2
}
