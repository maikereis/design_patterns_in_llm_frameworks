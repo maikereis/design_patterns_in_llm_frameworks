{
 "cells": [
  {
   "cell_type": "code",
   "execution_count": 1,
   "metadata": {},
   "outputs": [],
   "source": [
    "%load_ext autoreload\n",
    "%autoreload 2"
   ]
  },
  {
   "cell_type": "markdown",
   "metadata": {},
   "source": [
    "# Strategy Pattern\n",
    "\n",
    "The Strategy Pattern enables interchangeable algorithms or behaviors at runtime\n",
    "\n",
    "## Use Case:\n",
    "\n",
    "Choose different LLM prompt generation strategies based on the context.\n",
    "\n",
    "#### Python Code:"
   ]
  },
  {
   "cell_type": "code",
   "execution_count": null,
   "metadata": {},
   "outputs": [],
   "source": []
  },
  {
   "cell_type": "code",
   "execution_count": 4,
   "metadata": {},
   "outputs": [],
   "source": [
    "class Context:\n",
    "    def __init__(self, strategy):\n",
    "        self.strategy = strategy\n",
    "\n",
    "    def execute(self, text):\n",
    "        return self.strategy.create_prompt(text)\n",
    "\n",
    "\n",
    "class SummarizationStrategy:\n",
    "    def create_prompt(self, text):\n",
    "        return f\"Summarize this: {text}\"\n",
    "\n",
    "\n",
    "class QuestionAnsweringStrategy:\n",
    "    def create_prompt(self, text):\n",
    "        return f\"Answer this question: {text}\"\n",
    "\n",
    "\n",
    "summarization = Context(SummarizationStrategy())\n",
    "qa = Context(QuestionAnsweringStrategy())\n",
    "\n",
    "summarization_result = summarization.execute(\n",
    "    \"\"\"Lorem ipsum dolor sit amet, consectetur adipiscing elit.\\\n",
    "Etiam eget ligula eu lectus lobortis condimentum. Aliquam \\\n",
    "nonummy auctor massa. Pellentesque habitant morbi \\\n",
    "tristique senectus et netus et malesuada fames ac turpis \\\n",
    "egestas. Nulla at risus. Quisque purus magna, auctor et, \\\n",
    "sagittis ac, posuere eu, lectus. Nam mattis, felis ut \\\n",
    "adipiscing.\"\"\"\n",
    ")\n",
    "\n",
    "qa_result = qa.execute(\"What is Python?\")"
   ]
  },
  {
   "cell_type": "markdown",
   "metadata": {},
   "source": [
    "#### Output"
   ]
  },
  {
   "cell_type": "code",
   "execution_count": 7,
   "metadata": {},
   "outputs": [
    {
     "name": "stdout",
     "output_type": "stream",
     "text": [
      "Summarize this: Lorem ipsum dolor sit amet, consectetur adipiscing elit.Etiam eget ligula eu lectus lobortis condimentum. Aliquam nonummy auctor massa. Pellentesque habitant morbi tristique senectus et netus et malesuada fames ac turpis egestas. Nulla at risus. Quisque purus magna, auctor et, sagittis ac, posuere eu, lectus. Nam mattis, felis ut adipiscing.\n",
      "Answer this question: What is Python?\n"
     ]
    }
   ],
   "source": [
    "print(summarization_result)\n",
    "print(qa_result)"
   ]
  },
  {
   "cell_type": "markdown",
   "metadata": {},
   "source": [
    "#### References:\n",
    "\n",
    "1. https://refactoring.guru/design-patterns/strategy\n",
    "\n",
    "2. https://refactoring.guru/design-patterns/strategy/python/example#example-0"
   ]
  }
 ],
 "metadata": {
  "kernelspec": {
   "display_name": "patterns",
   "language": "python",
   "name": "python3"
  },
  "language_info": {
   "codemirror_mode": {
    "name": "ipython",
    "version": 3
   },
   "file_extension": ".py",
   "mimetype": "text/x-python",
   "name": "python",
   "nbconvert_exporter": "python",
   "pygments_lexer": "ipython3",
   "version": "3.12.3"
  }
 },
 "nbformat": 4,
 "nbformat_minor": 2
}
