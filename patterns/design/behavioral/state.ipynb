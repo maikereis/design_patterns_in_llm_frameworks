{
 "cells": [
  {
   "cell_type": "code",
   "execution_count": 16,
   "metadata": {},
   "outputs": [
    {
     "name": "stdout",
     "output_type": "stream",
     "text": [
      "The autoreload extension is already loaded. To reload it, use:\n",
      "  %reload_ext autoreload\n"
     ]
    }
   ],
   "source": [
    "%load_ext autoreload\n",
    "%autoreload 2"
   ]
  },
  {
   "cell_type": "markdown",
   "metadata": {},
   "source": [
    "# State Pattern\n",
    "\n",
    "The State Pattern is a behavioral design pattern that allows an object to alter its behavior when its internal state changes. The object appears to change its class by delegating state-specific behavior to a separate class representing that state.\n",
    "\n",
    "## Use Case 1:\n",
    "\n",
    "In the context of an LLM system, the State Pattern can be used to manage the lifecycle of tasks, requests, or sessions. For example:\n",
    "* Tracking the state of an LLM query as it progresses through different stages: Created, Processing, Completed, or Failed.\n",
    "* Managing the behavior of a chatbot or agent as it switches between conversational models like Idle, Active, or Paused.\n",
    "\n",
    "#### Python Example:"
   ]
  },
  {
   "cell_type": "code",
   "execution_count": 17,
   "metadata": {},
   "outputs": [],
   "source": [
    "class InspectionRequest:\n",
    "    def __init__(self):\n",
    "        self.state = CreatedState()\n",
    "\n",
    "    def set_state(self, state):\n",
    "        self.state = state\n",
    "    \n",
    "    def handle(self):\n",
    "        self.state.handle(self)\n",
    "\n",
    "class InspectionState:\n",
    "    def handle(self, context):\n",
    "        raise NotImplementedError\n",
    "    \n",
    "class CreatedState(InspectionState):\n",
    "    def handle(self, context):\n",
    "        print(\"Inspection Request is now CREATED.\")\n",
    "        context.set_state(OnCourseState())\n",
    "\n",
    "class OnCourseState(InspectionState):\n",
    "    def handle(self, context):\n",
    "        print(\"Inspection Request is ON COURSE.\")\n",
    "        context.set_state(FinalizedState())\n",
    "\n",
    "class FinalizedState(InspectionState):\n",
    "    def handle(self, context):\n",
    "        print(\"Inspection Request is FINALIZED.\")\n",
    "        context.set_state(None)\n",
    "\n",
    "inspection_request = InspectionRequest()"
   ]
  },
  {
   "cell_type": "markdown",
   "metadata": {},
   "source": [
    "#### Output"
   ]
  },
  {
   "cell_type": "code",
   "execution_count": 18,
   "metadata": {},
   "outputs": [
    {
     "name": "stdout",
     "output_type": "stream",
     "text": [
      "Inspection Request is now CREATED.\n",
      "Inspection Request is ON COURSE.\n",
      "Inspection Request is FINALIZED.\n"
     ]
    }
   ],
   "source": [
    "while inspection_request.state:\n",
    "    inspection_request.handle()"
   ]
  },
  {
   "cell_type": "markdown",
   "metadata": {},
   "source": [
    "## Use Case 2:\n",
    "\n",
    "A chatbot with multiple modes, such as idle, listening, and processing, can use the State Pattern to manage mode-specific behavior.\n",
    "\n",
    "#### Python Example:"
   ]
  },
  {
   "cell_type": "code",
   "execution_count": 22,
   "metadata": {},
   "outputs": [
    {
     "name": "stdout",
     "output_type": "stream",
     "text": [
      "Chatbot is IDLE. Waiting for input...\n",
      "Chatbot is IDLE. Waiting for input...\n",
      "Chatbot is LISTENING. User input: 'Hello, chatbot!'\n",
      "Chatbot is PROCESSING the input: 'Hello, chatbot!'\n",
      "Chatbot is IDLE. Waiting for input...\n"
     ]
    }
   ],
   "source": [
    "class Chatbot:\n",
    "    def __init__(self):\n",
    "        self.state = IdleState()\n",
    "\n",
    "    def set_state(self, state):\n",
    "        self.state = state\n",
    "\n",
    "    def handle(self, user_input=None):\n",
    "        self.state.handle(self, user_input)\n",
    "\n",
    "class ChatbotState:\n",
    "    def handle(self, context, user_input):\n",
    "        raise NotImplementedError\n",
    "\n",
    "# Concrete States\n",
    "class IdleState(ChatbotState):\n",
    "    def handle(self, context, user_input):\n",
    "        print(\"Chatbot is IDLE. Waiting for input...\")\n",
    "        if user_input:\n",
    "            context.set_state(ListeningState())\n",
    "            context.handle(user_input)\n",
    "\n",
    "class ListeningState(ChatbotState):\n",
    "    def handle(self, context, user_input):\n",
    "        print(f\"Chatbot is LISTENING. User input: '{user_input}'\")\n",
    "        context.set_state(ProcessingState())\n",
    "        context.handle(user_input)\n",
    "\n",
    "class ProcessingState(ChatbotState):\n",
    "    def handle(self, context, user_input):\n",
    "        print(f\"Chatbot is PROCESSING the input: '{user_input}'\")\n",
    "        context.set_state(IdleState())\n",
    "\n",
    "chatbot = Chatbot()\n",
    "chatbot.handle()\n",
    "chatbot.handle(\"Hello, chatbot!\")\n",
    "chatbot.handle()"
   ]
  },
  {
   "cell_type": "markdown",
   "metadata": {},
   "source": [
    "### References:\n",
    "\n",
    "1. https://refactoring.guru/design-patterns/state\n",
    "\n",
    "2. https://refactoring.guru/design-patterns/state/python/example#example-0"
   ]
  }
 ],
 "metadata": {
  "kernelspec": {
   "display_name": "patterns",
   "language": "python",
   "name": "python3"
  },
  "language_info": {
   "codemirror_mode": {
    "name": "ipython",
    "version": 3
   },
   "file_extension": ".py",
   "mimetype": "text/x-python",
   "name": "python",
   "nbconvert_exporter": "python",
   "pygments_lexer": "ipython3",
   "version": "3.12.3"
  }
 },
 "nbformat": 4,
 "nbformat_minor": 2
}
