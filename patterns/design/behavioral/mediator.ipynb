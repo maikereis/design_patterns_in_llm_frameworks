{
 "cells": [
  {
   "cell_type": "code",
   "execution_count": 6,
   "metadata": {},
   "outputs": [
    {
     "name": "stdout",
     "output_type": "stream",
     "text": [
      "The autoreload extension is already loaded. To reload it, use:\n",
      "  %reload_ext autoreload\n"
     ]
    }
   ],
   "source": [
    "%load_ext autoreload\n",
    "%autoreload 2"
   ]
  },
  {
   "cell_type": "markdown",
   "metadata": {},
   "source": [
    "# Mediator Pattern\n",
    "\n",
    "The Mediator Pattern is a behavioral design pattern that facilitates communication between multiple objects (colleagues) by introducing a mediator object. Instead of objects interacting direcly, they communicate through the mediator, promoting loose coupling.\n",
    "\n",
    "## Use Case:\n",
    "\n",
    "In an IA agents framework:\n",
    "* Agents and tools might need to interact dynamically. For example, an agent may need to use a search tool, a database connector, or another agent to fulfill a task. Instead of each agent/tool being aware of others, a mediator can orchestrate communication.\n",
    "* Multi-agent orchestration, where the mediator directs interactions between agents with specific roles.\n",
    "\n",
    "#### Python Example:"
   ]
  },
  {
   "cell_type": "code",
   "execution_count": 7,
   "metadata": {},
   "outputs": [],
   "source": [
    "class Mediator:\n",
    "    def notify(self, sender, event):\n",
    "        raise NotImplementedError\n",
    "    \n",
    "class TaskMediator(Mediator):\n",
    "    def __init__(self):\n",
    "        self.agents = []\n",
    "\n",
    "    def register_agent(self, agent):\n",
    "        self.agents.append(agent)\n",
    "        agent.set_mediator(self)\n",
    "\n",
    "    def notify(self, sender, event):\n",
    "        if event == \"task_completed\":\n",
    "            print(f\"{sender.name} completed a task. Notifying others.\")\n",
    "            for agent in self.agents:\n",
    "                if agent != sender:\n",
    "                    agent.receive_notification(sender.name)\n",
    "\n",
    "class Agent:\n",
    "    def __init__(self, name):\n",
    "        self.name = name\n",
    "        self.mediator = None\n",
    "    \n",
    "    def set_mediator(self, mediator):\n",
    "        self.mediator = mediator\n",
    "\n",
    "\n",
    "    def perform_task(self):\n",
    "        print(f\"{self.name} is performing a task.\")\n",
    "        self.mediator.notify(self, \"task_completed\")\n",
    "\n",
    "    def receive_notification(self, sender_name):\n",
    "        print(f\"{self.name} received notification from {sender_name}.\")\n",
    "\n",
    "mediator = TaskMediator()\n",
    "\n",
    "agent1 = Agent('Agent 1')\n",
    "agent2 = Agent('Agent 2')\n",
    "agent3 = Agent('Agent 3')\n",
    "\n",
    "mediator.register_agent(agent1)\n",
    "mediator.register_agent(agent2)\n",
    "mediator.register_agent(agent3)"
   ]
  },
  {
   "cell_type": "markdown",
   "metadata": {},
   "source": [
    "### Output"
   ]
  },
  {
   "cell_type": "code",
   "execution_count": 8,
   "metadata": {},
   "outputs": [
    {
     "name": "stdout",
     "output_type": "stream",
     "text": [
      "Agent 1 is performing a task.\n",
      "Agent 1 completed a task. Notifying others.\n",
      "Agent 2 received notification from Agent 1.\n",
      "Agent 3 received notification from Agent 1.\n"
     ]
    }
   ],
   "source": [
    "agent1.perform_task()"
   ]
  },
  {
   "cell_type": "markdown",
   "metadata": {},
   "source": [
    "#### References:\n",
    "\n",
    "1. https://refactoring.guru/design-patterns/mediator\n",
    "\n",
    "2. https://refactoring.guru/design-patterns/mediator/python/example#example-0"
   ]
  }
 ],
 "metadata": {
  "kernelspec": {
   "display_name": "patterns",
   "language": "python",
   "name": "python3"
  },
  "language_info": {
   "codemirror_mode": {
    "name": "ipython",
    "version": 3
   },
   "file_extension": ".py",
   "mimetype": "text/x-python",
   "name": "python",
   "nbconvert_exporter": "python",
   "pygments_lexer": "ipython3",
   "version": "3.12.3"
  }
 },
 "nbformat": 4,
 "nbformat_minor": 2
}
