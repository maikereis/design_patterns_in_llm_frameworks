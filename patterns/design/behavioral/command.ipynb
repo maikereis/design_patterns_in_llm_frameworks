{
 "cells": [
  {
   "cell_type": "code",
   "execution_count": null,
   "metadata": {},
   "outputs": [],
   "source": [
    "%load_ext autoreload\n",
    "%autoreload 2"
   ]
  },
  {
   "cell_type": "markdown",
   "metadata": {},
   "source": [
    "# Command Pattern\n",
    "\n",
    "The Command Pattern encapsulates a request as an object, allowing you to parametrize objects with operations, delay execution, and support undoable operations.\n",
    "\n",
    "## Use Case:\n",
    "\n",
    "In an LLM system, the Command Pattern could be used to structure interactions with tasks such as generating text, summarizing content, or retrieving data, making these actions reusable and schedulable.\n",
    "\n",
    "#### Python Code:"
   ]
  },
  {
   "cell_type": "code",
   "execution_count": 3,
   "metadata": {},
   "outputs": [
    {
     "name": "stdout",
     "output_type": "stream",
     "text": [
      "Generated text for: Tell me about Python.\n",
      "Summary: Python is ...\n"
     ]
    }
   ],
   "source": [
    "class Command:\n",
    "    def execute(self):\n",
    "        raise NotImplementedError\n",
    "    \n",
    "class GenerateTextCommand(Command):\n",
    "    def __init__(self, llm, prompt):\n",
    "        self.llm = llm\n",
    "        self.prompt = prompt\n",
    "\n",
    "    def execute(self):\n",
    "        return self.llm.generate(self.prompt)\n",
    "    \n",
    "class SummarizeCommand(Command):\n",
    "    def __init__(self, llm, text):\n",
    "        self.llm = llm\n",
    "        self.text = text\n",
    "    \n",
    "    def execute(self):\n",
    "        return self.llm.summarize(self.text)\n",
    "    \n",
    "class MockLLM:\n",
    "    def generate(self, prompt):\n",
    "        return f\"Generated text for: {prompt}\"\n",
    "    \n",
    "    def summarize(self, text):\n",
    "        return f\"Summary: {text[:10]}...\"\n",
    "        \n",
    "\n",
    "class CommandInvoker:\n",
    "    def __init__(self):\n",
    "        self.history = []\n",
    "\n",
    "    def execute_command(self, command):\n",
    "        result = command.execute()\n",
    "        self.history.append(command)\n",
    "        return result\n",
    "    \n",
    "llm = MockLLM()\n",
    "\n",
    "generate_command = GenerateTextCommand(llm, \"Tell me about Python.\")\n",
    "summarize_command = SummarizeCommand(llm, \"Python is a popular programming laguage.\")\n",
    "\n",
    "invoker = CommandInvoker()\n",
    "\n",
    "print(invoker.execute_command(generate_command))\n",
    "print(invoker.execute_command(summarize_command))\n",
    "    "
   ]
  },
  {
   "cell_type": "markdown",
   "metadata": {},
   "source": [
    "#### References:\n",
    "\n",
    "1. https://refactoring.guru/design-patterns/command\n",
    "\n",
    "2. https://refactoring.guru/design-patterns/command/python/example#example-0"
   ]
  }
 ],
 "metadata": {
  "kernelspec": {
   "display_name": "patterns",
   "language": "python",
   "name": "python3"
  },
  "language_info": {
   "codemirror_mode": {
    "name": "ipython",
    "version": 3
   },
   "file_extension": ".py",
   "mimetype": "text/x-python",
   "name": "python",
   "nbconvert_exporter": "python",
   "pygments_lexer": "ipython3",
   "version": "3.12.3"
  }
 },
 "nbformat": 4,
 "nbformat_minor": 2
}
