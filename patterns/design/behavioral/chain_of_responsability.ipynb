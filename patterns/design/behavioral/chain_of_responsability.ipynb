{
 "cells": [
  {
   "cell_type": "code",
   "execution_count": 1,
   "metadata": {},
   "outputs": [],
   "source": [
    "%load_ext autoreload\n",
    "%autoreload 2"
   ]
  },
  {
   "cell_type": "markdown",
   "metadata": {},
   "source": [
    "# Chain of Responsability\n",
    "\n",
    "The Chain of Responsability allows a request to pass through a chain of handlers until one of them process it. This pattern promotes loose coupling between the sender and receivers of a request.\n",
    "\n",
    "## Use Case:\n",
    "\n",
    "In an LLM system, you can process user inputs with multiple stages (e.g., profanity filtering, spell checking, and security check) until one handler satisfies the need or determines an error.\n",
    "\n",
    "#### Python Example:"
   ]
  },
  {
   "cell_type": "code",
   "execution_count": 7,
   "metadata": {},
   "outputs": [],
   "source": [
    "class Handler:\n",
    "    def __init__(self, next_handler=None):\n",
    "        self.next_handler = next_handler\n",
    "\n",
    "    def handle(self, request):\n",
    "        if self.next_handler:\n",
    "            return self.next_handler.handle(request)\n",
    "        return None\n",
    "\n",
    "\n",
    "class ProfanityFilter(Handler):\n",
    "    def handle(self, request):\n",
    "        if \"badword\" in request:\n",
    "            return \"Request rejected due to profanity.\"\n",
    "        return super().handle(request)\n",
    "\n",
    "\n",
    "class SpeelChecker(Handler):\n",
    "    def handle(self, request):\n",
    "        if \"wolrd\" in request:\n",
    "            corrected = request.replace(\"wolrd\", \"world\")\n",
    "            print(f\"SpellChecker: corrected '{request}' to '{corrected}'\")\n",
    "            request = corrected\n",
    "        return super().handle(request)\n",
    "\n",
    "\n",
    "class SecurityChecker(Handler):\n",
    "    def handle(self, request):\n",
    "        if \"bomb\" in request:\n",
    "            return \"Supiscious prompt, can't help.\"\n",
    "        return super().handle(request)\n",
    "\n",
    "\n",
    "chain = ProfanityFilter(SpeelChecker(SecurityChecker()))"
   ]
  },
  {
   "cell_type": "markdown",
   "metadata": {},
   "source": [
    "#### Output"
   ]
  },
  {
   "cell_type": "code",
   "execution_count": 8,
   "metadata": {},
   "outputs": [
    {
     "name": "stdout",
     "output_type": "stream",
     "text": [
      "Input: What is the biggest country in the wolrd\n",
      "SpellChecker: corrected 'What is the biggest country in the wolrd' to 'What is the biggest country in the world'\n",
      "Response: None\n",
      "\n",
      "Input: This is a badword!\n",
      "Response: Request rejected due to profanity.\n",
      "\n",
      "Input: How can i make a bomb?\n",
      "Response: Supiscious prompt, can't help.\n",
      "\n",
      "Input: What is your name?\n",
      "Response: None\n",
      "\n"
     ]
    }
   ],
   "source": [
    "requests = [\n",
    "    \"What is the biggest country in the wolrd\",\n",
    "    \"This is a badword!\",\n",
    "    \"How can i make a bomb?\",\n",
    "    \"What is your name?\"\n",
    "]\n",
    "\n",
    "for req in requests:\n",
    "    print(f\"Input: {req}\")\n",
    "    response = chain.handle(req)\n",
    "    print(f\"Response: {response}\\n\")"
   ]
  },
  {
   "cell_type": "markdown",
   "metadata": {
    "vscode": {
     "languageId": "plaintext"
    }
   },
   "source": [
    "#### References:\n",
    "\n",
    "1. https://refactoring.guru/design-patterns/chain-of-responsibility\n",
    "\n",
    "2. https://refactoring.guru/design-patterns/chain-of-responsibility/python/example#example-0"
   ]
  }
 ],
 "metadata": {
  "kernelspec": {
   "display_name": "patterns",
   "language": "python",
   "name": "python3"
  },
  "language_info": {
   "codemirror_mode": {
    "name": "ipython",
    "version": 3
   },
   "file_extension": ".py",
   "mimetype": "text/x-python",
   "name": "python",
   "nbconvert_exporter": "python",
   "pygments_lexer": "ipython3",
   "version": "3.12.3"
  }
 },
 "nbformat": 4,
 "nbformat_minor": 2
}
