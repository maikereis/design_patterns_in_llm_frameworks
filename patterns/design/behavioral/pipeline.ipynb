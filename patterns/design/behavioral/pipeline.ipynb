{
 "cells": [
  {
   "cell_type": "code",
   "execution_count": 2,
   "metadata": {},
   "outputs": [],
   "source": [
    "%load_ext autoreload\n",
    "%autoreload 2"
   ]
  },
  {
   "cell_type": "markdown",
   "metadata": {},
   "source": [
    "# Pipeline Pattern\n",
    "\n",
    "The Pipeline Pattern/Chain of Command Pattern structures a series of steps where each step processes the output of the previous one.\n",
    "\n",
    "## Use Case:\n",
    "In LLM workflows, you might preprocess input text, call a LLM, and then post-process the response.\n",
    "\n",
    "#### Python Example:"
   ]
  },
  {
   "cell_type": "code",
   "execution_count": null,
   "metadata": {},
   "outputs": [],
   "source": [
    "class Preprocessor:\n",
    "    def process(self, text):\n",
    "        return text.lower().strip()\n",
    "\n",
    "class LLMInvoker:\n",
    "    def process(self, text):\n",
    "        return f\"LLM response for: {text}\"\n",
    "\n",
    "class Postprocessor:\n",
    "    def process(self, response):\n",
    "        return response.replace(\"LLM response for:\", \"Processed response:\")\n",
    "\n",
    "\n",
    "class Pipeline:\n",
    "    def __init__(self, steps):\n",
    "        self.steps = steps\n",
    "\n",
    "    def run(self, input_text):\n",
    "        data = input_text\n",
    "        for step in self.steps:\n",
    "            data = step.process(data)\n",
    "        return data\n",
    "\n",
    "\n",
    "pipeline = Pipeline(steps=[Preprocessor(), LLMInvoker(), Postprocessor()])\n",
    "\n",
    "input_text = \"    Hello World! \"\n",
    "output = pipeline.run(input_text)"
   ]
  },
  {
   "cell_type": "markdown",
   "metadata": {},
   "source": [
    "#### Output"
   ]
  },
  {
   "cell_type": "code",
   "execution_count": 5,
   "metadata": {},
   "outputs": [
    {
     "name": "stdout",
     "output_type": "stream",
     "text": [
      "Processed response: hello world!\n"
     ]
    }
   ],
   "source": [
    "print(output)"
   ]
  }
 ],
 "metadata": {
  "kernelspec": {
   "display_name": "patterns",
   "language": "python",
   "name": "python3"
  },
  "language_info": {
   "codemirror_mode": {
    "name": "ipython",
    "version": 3
   },
   "file_extension": ".py",
   "mimetype": "text/x-python",
   "name": "python",
   "nbconvert_exporter": "python",
   "pygments_lexer": "ipython3",
   "version": "3.12.3"
  }
 },
 "nbformat": 4,
 "nbformat_minor": 2
}
