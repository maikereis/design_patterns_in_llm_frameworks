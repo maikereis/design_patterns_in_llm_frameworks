{
 "cells": [
  {
   "cell_type": "code",
   "execution_count": 13,
   "metadata": {},
   "outputs": [
    {
     "name": "stdout",
     "output_type": "stream",
     "text": [
      "The autoreload extension is already loaded. To reload it, use:\n",
      "  %reload_ext autoreload\n"
     ]
    }
   ],
   "source": [
    "%load_ext autoreload\n",
    "%autoreload 2"
   ]
  },
  {
   "cell_type": "markdown",
   "metadata": {},
   "source": [
    "# Observer Pattern\n",
    "\n",
    "The Observer Pattern is a behavioral design pattern where an object, called the **subject**, maintains a list of dependents, called **observers**, and notifies them of any state changes, typically by calling one of their methods. It is a common pattern for implementing distributed event-handling systems.\n",
    "\n",
    "## Use Case:\n",
    "\n",
    "In the context of LLM systems, the Observer Pattern can be used to implement a notification system. For example:\n",
    "* Notifying multiple downstream systems or modules (e.g., logging, analytics, or user notification services) when a new response is generated.\n",
    "* Broadcasting updates to clients in a collaborative chatbot system.\n",
    "\n",
    "#### Python Example:"
   ]
  },
  {
   "cell_type": "code",
   "execution_count": 14,
   "metadata": {},
   "outputs": [],
   "source": [
    "class LLMResponseGenerator:\n",
    "    def __init__(self):\n",
    "        self._observers = []\n",
    "\n",
    "    def register_observer(self, observer):\n",
    "        self._observers.append(observer)\n",
    "\n",
    "    def unregister_observer(self, observer):\n",
    "        self._observers.remove(observer)\n",
    "\n",
    "    def notify_observers(self, response):\n",
    "        for observer in self._observers:\n",
    "            observer.update(response)\n",
    "\n",
    "    def generate_response(self, prompt):\n",
    "        response = f\"Response to '{prompt}'\"\n",
    "        print(f\"Generated: {response}\")\n",
    "        self.notify_observers(response)\n",
    "        return response\n",
    "\n",
    "class Observer:\n",
    "    def update(self, response):\n",
    "        raise NotImplementedError\n",
    "\n",
    "class LoggingObserver(Observer):\n",
    "    def update(self, response):\n",
    "        print(f\"Logging response: {response}\")\n",
    "\n",
    "class AnalyticsObserver(Observer):\n",
    "    def update(self, response):\n",
    "        print(f\"Analyzing response: {response}\")\n",
    "\n",
    "class NotificationObserver(Observer):\n",
    "    def update(self, response):\n",
    "        print(f\"Sending notification for response: {response}\")\n",
    "\n",
    "generator = LLMResponseGenerator()\n",
    "\n",
    "logger = LoggingObserver()\n",
    "analytics = AnalyticsObserver()\n",
    "notifier = NotificationObserver()\n",
    "\n",
    "generator.register_observer(logger)\n",
    "generator.register_observer(analytics)\n",
    "generator.register_observer(notifier)"
   ]
  },
  {
   "cell_type": "markdown",
   "metadata": {},
   "source": [
    "#### Output"
   ]
  },
  {
   "cell_type": "code",
   "execution_count": 15,
   "metadata": {},
   "outputs": [
    {
     "name": "stdout",
     "output_type": "stream",
     "text": [
      "Generated: Response to 'What is AI?'\n",
      "Logging response: Response to 'What is AI?'\n",
      "Analyzing response: Response to 'What is AI?'\n",
      "Sending notification for response: Response to 'What is AI?'\n"
     ]
    },
    {
     "data": {
      "text/plain": [
       "\"Response to 'What is AI?'\""
      ]
     },
     "execution_count": 15,
     "metadata": {},
     "output_type": "execute_result"
    }
   ],
   "source": [
    "generator.generate_response(\"What is AI?\")"
   ]
  },
  {
   "cell_type": "markdown",
   "metadata": {},
   "source": [
    "#### References:\n",
    "\n",
    "1. https://refactoring.guru/design-patterns/observer\n",
    "\n",
    "2. https://refactoring.guru/design-patterns/observer/python/example#example-0"
   ]
  }
 ],
 "metadata": {
  "kernelspec": {
   "display_name": "patterns",
   "language": "python",
   "name": "python3"
  },
  "language_info": {
   "codemirror_mode": {
    "name": "ipython",
    "version": 3
   },
   "file_extension": ".py",
   "mimetype": "text/x-python",
   "name": "python",
   "nbconvert_exporter": "python",
   "pygments_lexer": "ipython3",
   "version": "3.12.3"
  }
 },
 "nbformat": 4,
 "nbformat_minor": 2
}
