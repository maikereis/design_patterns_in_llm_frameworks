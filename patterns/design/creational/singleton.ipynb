{
 "cells": [
  {
   "cell_type": "code",
   "execution_count": 83,
   "metadata": {},
   "outputs": [
    {
     "name": "stdout",
     "output_type": "stream",
     "text": [
      "The autoreload extension is already loaded. To reload it, use:\n",
      "  %reload_ext autoreload\n"
     ]
    }
   ],
   "source": [
    "%load_ext autoreload\n",
    "%autoreload 2"
   ]
  },
  {
   "cell_type": "markdown",
   "metadata": {
    "vscode": {
     "languageId": "plaintext"
    }
   },
   "source": [
    "# Singleton Pattern\n",
    "\n",
    "The Singleton Pattern ensures that a class has only one instance, and it provides a global point of access to that instance. This is useful when you need a single, shared resource across an application, such as a configuration manager or a logging service.\n",
    "\n",
    "## Use Case:\n",
    "\n",
    "In an LLM system, you might want to ensure that there's only one instance of a configuration manager or API client that handles requests to an external service.\n",
    "\n",
    "\n",
    "#### Python Example:"
   ]
  },
  {
   "cell_type": "code",
   "execution_count": 84,
   "metadata": {},
   "outputs": [
    {
     "name": "stdout",
     "output_type": "stream",
     "text": [
      "Creating the instance\n"
     ]
    }
   ],
   "source": [
    "class Singleton:\n",
    "    _instances = {}\n",
    "\n",
    "    def __new__(cls, *args, **kwargs):\n",
    "        if cls not in cls._instances:\n",
    "            cls._instances[cls] = super().__new__(cls, *args, **kwargs)\n",
    "            print(\"Creating the instance\")\n",
    "        return cls._instances[cls]\n",
    "\n",
    "\n",
    "singleton1 = Singleton()\n",
    "singleton2 = Singleton()"
   ]
  },
  {
   "cell_type": "markdown",
   "metadata": {},
   "source": [
    "#### Output"
   ]
  },
  {
   "cell_type": "code",
   "execution_count": 85,
   "metadata": {},
   "outputs": [
    {
     "name": "stdout",
     "output_type": "stream",
     "text": [
      "singleton1 id: 140432815598832\n",
      "singleton2 id: 140432815598832\n"
     ]
    }
   ],
   "source": [
    "print(f'singleton1 id: {id(singleton1)}')\n",
    "print(f'singleton2 id: {id(singleton2)}')"
   ]
  },
  {
   "cell_type": "code",
   "execution_count": 86,
   "metadata": {},
   "outputs": [
    {
     "name": "stdout",
     "output_type": "stream",
     "text": [
      "Creating the instance\n"
     ]
    }
   ],
   "source": [
    "class LLMConfigSingleton(Singleton):\n",
    "    def __init__(self):\n",
    "        # Ensure this block runs only once for the singleton instance\n",
    "        if not hasattr(self, \"_initialized\"):\n",
    "            self._initialized = True\n",
    "            self.api_key = \"<api-key>\"\n",
    "            self.endpoint = \"https://api.llmservice.com\"\n",
    "\n",
    "config1 = LLMConfigSingleton()\n",
    "config2 = LLMConfigSingleton()"
   ]
  },
  {
   "cell_type": "markdown",
   "metadata": {},
   "source": [
    "#### Output"
   ]
  },
  {
   "cell_type": "code",
   "execution_count": 87,
   "metadata": {},
   "outputs": [
    {
     "name": "stdout",
     "output_type": "stream",
     "text": [
      "<api-key>\n",
      "<api-key>\n",
      "Config1 id: 140432815929200\n",
      "Config2 id: 140432815929200\n"
     ]
    }
   ],
   "source": [
    "print(config1.api_key)\n",
    "print(config2.api_key)\n",
    "\n",
    "print(f\"Config1 id: {id(config1)}\")\n",
    "print(f\"Config2 id: {id(config2)}\")"
   ]
  },
  {
   "cell_type": "markdown",
   "metadata": {},
   "source": [
    "#### References:\n",
    "\n",
    "1. https://refactoring.guru/design-patterns/singleton\n",
    "\n",
    "2. https://refactoring.guru/design-patterns/singleton/python/example#lang-features"
   ]
  }
 ],
 "metadata": {
  "kernelspec": {
   "display_name": "patterns",
   "language": "python",
   "name": "python3"
  },
  "language_info": {
   "codemirror_mode": {
    "name": "ipython",
    "version": 3
   },
   "file_extension": ".py",
   "mimetype": "text/x-python",
   "name": "python",
   "nbconvert_exporter": "python",
   "pygments_lexer": "ipython3",
   "version": "3.12.3"
  }
 },
 "nbformat": 4,
 "nbformat_minor": 2
}
